{
  "nbformat": 4,
  "nbformat_minor": 0,
  "metadata": {
    "colab": {
      "name": "8Reinas.ipynb",
      "provenance": []
    },
    "kernelspec": {
      "name": "python3",
      "display_name": "Python 3"
    }
  },
  "cells": [
    {
      "cell_type": "code",
      "metadata": {
        "colab": {
          "base_uri": "https://localhost:8080/"
        },
        "id": "MF9IO9SDF6zQ",
        "outputId": "207a350e-e163-4f8e-ecc2-0afed0771f86"
      },
      "source": [
        "#Tablero\n",
        "#8x8 Matriz con 0\n",
        "board = [[0]*8 for _ in range(8)]\n",
        "\n",
        "def isValid(i, j):\n",
        "    for k in range(0,8):\n",
        "        if board[i][k]==1 or board[k][j]==1:\n",
        "            return True\n",
        "    for k in range(0,8):\n",
        "        for l in range(0,8):\n",
        "            if (k+l==i+j) or (k-l==i-j):\n",
        "                if board[k][l]==1:\n",
        "                    return True\n",
        "    return False\n",
        "\n",
        "def eightQueen(n):\n",
        "    if n==0:\n",
        "        return True\n",
        "   for i in range(0,8):\n",
        "        for j in range(0,8):\n",
        "            if (not(isValid(i,j))) and (board[i][j]!=1):\n",
        "                board[i][j] = 1\n",
        "                if eightQueen(n-1)==True:\n",
        "                    return True\n",
        "                board[i][j] = 0\n",
        "    return False\n",
        "\n",
        "eightQueen(8)\n",
        "print(\"\\tOcho Reinas\")\n",
        "for i in board:\n",
        "    print (i)"
      ],
      "execution_count": 9,
      "outputs": [
        {
          "output_type": "stream",
          "text": [
            "\tOcho Reinas\n",
            "[1, 0, 0, 0, 0, 0, 0, 0]\n",
            "[0, 0, 0, 0, 1, 0, 0, 0]\n",
            "[0, 0, 0, 0, 0, 0, 0, 1]\n",
            "[0, 0, 0, 0, 0, 1, 0, 0]\n",
            "[0, 0, 1, 0, 0, 0, 0, 0]\n",
            "[0, 0, 0, 0, 0, 0, 1, 0]\n",
            "[0, 1, 0, 0, 0, 0, 0, 0]\n",
            "[0, 0, 0, 1, 0, 0, 0, 0]\n"
          ],
          "name": "stdout"
        }
      ]
    },
    {
      "cell_type": "markdown",
      "metadata": {
        "id": "pvcLi15HxaHK"
      },
      "source": [
        "**Analisis Cualitativo**\n",
        "\n",
        "En la funcion isValid el algoritmo si hay una reina en fila o columna como se hace en el algoritmo del sudoku lo que cambia aqui es la tercera validacion en vez de validar el cuadrante, valida las diagonales ya que las reinas pueden \"comer\" en diagonal.\n",
        "\n",
        "En la segunda funcion eightQueen comprobando si podemos colocar una reina aquí o no la reina no se colocará si el lugar está siendo atacado o ya ocupado con la ayuda de backtracking que va al futuro para comprobar si donde se colocara la reina actual afectara al futuro y en la recursion decide si podemos poner la próxima reina con este arreglo o no."
      ]
    }
  ]
}